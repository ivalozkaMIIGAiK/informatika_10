{
  "nbformat": 4,
  "nbformat_minor": 0,
  "metadata": {
    "colab": {
      "provenance": [],
      "authorship_tag": "ABX9TyOF4nromXIQH81rY5WhePCy",
      "include_colab_link": true
    },
    "kernelspec": {
      "name": "python3",
      "display_name": "Python 3"
    },
    "language_info": {
      "name": "python"
    }
  },
  "cells": [
    {
      "cell_type": "markdown",
      "metadata": {
        "id": "view-in-github",
        "colab_type": "text"
      },
      "source": [
        "<a href=\"https://colab.research.google.com/github/ivalozkaMIIGAiK/informatika_10/blob/main/%D0%A0%D0%B0%D0%B7%D0%B4%D0%B5%D0%BB_%E2%84%963_%D0%9E%D1%81%D0%BD%D0%BE%D0%B2%D0%BD%D1%8B%D0%B5_%D1%82%D0%B8%D0%BF%D1%8B_%D0%B4%D0%B0%D0%BD%D0%BD%D1%8B%D1%85_%D0%94%D0%BE%D0%BC%D0%B0%D1%88%D0%BD%D0%B5%D0%B5_%D0%B7%D0%B0%D0%B4%D0%B0%D0%BD%D0%B8%D0%B5.ipynb\" target=\"_parent\"><img src=\"https://colab.research.google.com/assets/colab-badge.svg\" alt=\"Open In Colab\"/></a>"
      ]
    },
    {
      "cell_type": "markdown",
      "source": [
        "Задание 1: Попросите пользователя ввести количество яблок и количество апельсинов. Затем выведите общее количество фруктов.*Курсив*"
      ],
      "metadata": {
        "id": "uZPGW-bWHFch"
      }
    },
    {
      "cell_type": "code",
      "execution_count": null,
      "metadata": {
        "id": "ARVD3QOrHBLZ"
      },
      "outputs": [],
      "source": [
        "#Ваш код"
      ]
    },
    {
      "cell_type": "markdown",
      "source": [
        "Задание 2: Попросите пользователя ввести расстояние в километрах и преобразуйте его в мили (1 километр ≈ 0.6214 мили). Выведите результат."
      ],
      "metadata": {
        "id": "PMUNTaKqHKIa"
      }
    },
    {
      "cell_type": "code",
      "source": [
        "#Ваш код"
      ],
      "metadata": {
        "id": "VC0kJvH5HM96"
      },
      "execution_count": null,
      "outputs": []
    },
    {
      "cell_type": "markdown",
      "source": [
        "Задание 3: Попросите пользователя ввести свое имя и фамилию. Затем выведите сообщение с их полным именем. Используйте конкатенацию"
      ],
      "metadata": {
        "id": "UjTDBk2QHOSB"
      }
    },
    {
      "cell_type": "code",
      "source": [
        "#Ваш код"
      ],
      "metadata": {
        "id": "Se1YoIhmHd2J"
      },
      "execution_count": null,
      "outputs": []
    },
    {
      "cell_type": "markdown",
      "source": [
        "Задание 4: Создайте переменную user_data и присвойте ей значение None. Затем попросите пользователя ввести данные и присвойте их переменной user_data. Выведите значение переменной до и после ввода данных."
      ],
      "metadata": {
        "id": "xjT_G2sKHfJv"
      }
    },
    {
      "cell_type": "code",
      "source": [
        "#Ваш код"
      ],
      "metadata": {
        "id": "3-c30LZ4HrtX"
      },
      "execution_count": null,
      "outputs": []
    }
  ]
}