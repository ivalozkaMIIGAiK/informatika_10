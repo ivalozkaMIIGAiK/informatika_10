{
  "cells": [
    {
      "cell_type": "markdown",
      "metadata": {
        "id": "view-in-github",
        "colab_type": "text"
      },
      "source": [
        "<a href=\"https://colab.research.google.com/github/ivalozkaMIIGAiK/informatika_10/blob/main/%D0%A0%D0%B0%D0%B7%D0%B4%D0%B5%D0%BB_%E2%84%963_%D0%9E%D1%81%D0%BD%D0%BE%D0%B2%D0%BD%D1%8B%D0%B5_%D1%82%D0%B8%D0%BF%D1%8B_%D0%B4%D0%B0%D0%BD%D0%BD%D1%8B%D1%85.ipynb\" target=\"_parent\"><img src=\"https://colab.research.google.com/assets/colab-badge.svg\" alt=\"Open In Colab\"/></a>"
      ]
    },
    {
      "cell_type": "markdown",
      "id": "3c9d0073",
      "metadata": {
        "id": "3c9d0073"
      },
      "source": [
        "## **Раздел №3. Основные типы данных в Python**"
      ]
    },
    {
      "cell_type": "markdown",
      "id": "158e92ec",
      "metadata": {
        "id": "158e92ec"
      },
      "source": [
        "Теперь, когда мы умеем выводить и получать данные, давайте познакомимся с основными типами данных.\n",
        "\n",
        "**Все типы данных** в Python относятся к одной из **2-х категорий**: **изменяемые (mutable)** и **неизменяемые (immutable)**.   \n",
        "\n",
        "*Неизменяемые объекты*:  \n",
        "\n",
        "- **int**: целые числа\n",
        "- **float**: числа с плавающей точкой\n",
        "- **str**: строки (текст)\n",
        "- **bool**: логические значения\n",
        "- **None**: специальное значение отсутствия данных\n",
        "- **tuple**: кортежи (упорядоченные неизменяемые коллекции)\n",
        "\n",
        "*Изменяемые объекты*:  \n",
        "\n",
        "- **list**: списки (упорядоченные изменяемые коллекции)\n",
        "- **set**: множества (неупорядоченные коллекции уникальных элементов)\n",
        "- **dict**: словари (коллекции пар \"ключ-значение\")\n",
        "\n",
        "**Важно:** Изменяемость объектов определяет, может ли объект такого типа выступать в качестве ключа для словарей (dict). Только неизменяемые типы могут быть ключами словаря.\n",
        "\n",
        "Давайте подробно рассмотрим каждый тип, приведем примеры и задачи для практики.\n",
        "\n",
        "---"
      ]
    },
    {
      "cell_type": "markdown",
      "id": "30423b83",
      "metadata": {
        "id": "30423b83"
      },
      "source": [
        "### **Целые числа (`int`)**"
      ]
    },
    {
      "cell_type": "markdown",
      "id": "176af0e9",
      "metadata": {
        "id": "176af0e9"
      },
      "source": [
        "**int** представляет собой целые числа без дробной части."
      ]
    },
    {
      "cell_type": "markdown",
      "id": "75cfaba9",
      "metadata": {
        "id": "75cfaba9"
      },
      "source": [
        "#### Пример использования:"
      ]
    },
    {
      "cell_type": "code",
      "execution_count": 1,
      "id": "39a370db",
      "metadata": {
        "id": "39a370db",
        "outputId": "66b58596-d5c5-47a2-8199-038f980de419",
        "colab": {
          "base_uri": "https://localhost:8080/"
        }
      },
      "outputs": [
        {
          "output_type": "stream",
          "name": "stdout",
          "text": [
            "Ваш возраст: 25\n",
            "Тип переменной: <class 'int'>\n"
          ]
        }
      ],
      "source": [
        "age = 25\n",
        "print(\"Ваш возраст:\", age)\n",
        "print(\"Тип переменной:\", type(age))"
      ]
    },
    {
      "cell_type": "markdown",
      "id": "cd638e38",
      "metadata": {
        "id": "cd638e38"
      },
      "source": [
        "**Зачем это нужно?**\n",
        "\n",
        "Целые числа используются для подсчета, определения количества предметов, работы с порядковыми номерами и многого другого."
      ]
    },
    {
      "cell_type": "markdown",
      "id": "72211e17",
      "metadata": {
        "id": "72211e17"
      },
      "source": [
        "#### Арифметические операции с int:"
      ]
    },
    {
      "cell_type": "code",
      "execution_count": null,
      "id": "6ccad58a",
      "metadata": {
        "colab": {
          "base_uri": "https://localhost:8080/"
        },
        "id": "6ccad58a",
        "outputId": "b411911d-8f5f-4912-a717-9bf44b58bcd4"
      },
      "outputs": [
        {
          "output_type": "stream",
          "name": "stdout",
          "text": [
            "9 20 1 1.25 625 1\n"
          ]
        }
      ],
      "source": [
        "a = 4 + 5       # сложение\n",
        "b = 4 * 5       # умножение\n",
        "c = 5 // 4      # целочисленное деление\n",
        "d = 5 / 4       # обычное деление (результат float)\n",
        "e = 5**4        # возведение в степень\n",
        "f = 5 % 4       # остаток от деления\n",
        "\n",
        "print(a, b, c, d, e, f)"
      ]
    },
    {
      "cell_type": "markdown",
      "id": "7609c40c",
      "metadata": {
        "id": "7609c40c"
      },
      "source": [
        "#### Работа с большими числами:"
      ]
    },
    {
      "cell_type": "markdown",
      "id": "69d257bf",
      "metadata": {
        "id": "69d257bf"
      },
      "source": [
        "Python отлично работает с большими числами без переполнения (в отличие от языков типа C++):"
      ]
    },
    {
      "cell_type": "code",
      "execution_count": null,
      "id": "ef22fac8",
      "metadata": {
        "colab": {
          "base_uri": "https://localhost:8080/"
        },
        "id": "ef22fac8",
        "outputId": "5aa7569c-311f-46fb-a584-cd3125293ecd"
      },
      "outputs": [
        {
          "output_type": "stream",
          "name": "stdout",
          "text": [
            "5000000000000000000000000001\n",
            "Тип: <class 'int'>\n"
          ]
        }
      ],
      "source": [
        "x = 5 * 1000000000 * 1000000000 * 10**9 + 1\n",
        "print(x)\n",
        "print(\"Тип:\", type(x))"
      ]
    },
    {
      "cell_type": "markdown",
      "id": "d65b2175",
      "metadata": {
        "id": "d65b2175"
      },
      "source": [
        "#### Задача для практики:"
      ]
    },
    {
      "cell_type": "markdown",
      "id": "b0ae1e2c",
      "metadata": {
        "id": "b0ae1e2c"
      },
      "source": [
        "**Задание:** Попросите пользователя ввести количество яблок и количество апельсинов. Затем выведите общее количество фруктов.\n",
        "\n"
      ]
    },
    {
      "cell_type": "markdown",
      "source": [
        "##### **Решение:**"
      ],
      "metadata": {
        "id": "16WQOEAPcd8h"
      },
      "id": "16WQOEAPcd8h"
    },
    {
      "cell_type": "code",
      "execution_count": null,
      "id": "433845f2",
      "metadata": {
        "id": "433845f2"
      },
      "outputs": [],
      "source": [
        "apples = int(input(\"Сколько у вас яблок? \"))\n",
        "oranges = int(input(\"Сколько у вас апельсинов? \"))\n",
        "total_fruits = apples + oranges\n",
        "print(\"Всего фруктов:\", total_fruits)"
      ]
    },
    {
      "cell_type": "markdown",
      "id": "800b8b00",
      "metadata": {
        "id": "800b8b00"
      },
      "source": [
        "**Объяснение:** Здесь мы используем функцию `int()` для преобразования введенных строк в целые числа, чтобы можно было выполнить математическую операцию сложения.\n",
        "\n",
        "---"
      ]
    },
    {
      "cell_type": "markdown",
      "id": "76d11c7e",
      "metadata": {
        "id": "76d11c7e"
      },
      "source": [
        "### **Числа с плавающей точкой (`float`)**"
      ]
    },
    {
      "cell_type": "markdown",
      "id": "94882588",
      "metadata": {
        "id": "94882588"
      },
      "source": [
        "**float** предназначен для представления чисел с дробной частью."
      ]
    },
    {
      "cell_type": "markdown",
      "id": "1ba5b56e",
      "metadata": {
        "id": "1ba5b56e"
      },
      "source": [
        "#### Пример использования:"
      ]
    },
    {
      "cell_type": "code",
      "execution_count": null,
      "id": "21c98c67",
      "metadata": {
        "colab": {
          "base_uri": "https://localhost:8080/"
        },
        "id": "21c98c67",
        "outputId": "0926e6e2-5f61-411c-e5fa-c175afd36654"
      },
      "outputs": [
        {
          "output_type": "stream",
          "name": "stdout",
          "text": [
            "Ваш рост: 1.75 метров\n",
            "Тип переменной: <class 'float'>\n"
          ]
        }
      ],
      "source": [
        "height = 1.75\n",
        "print(\"Ваш рост:\", height, \"метров\")\n",
        "print(\"Тип переменной:\", type(height))"
      ]
    },
    {
      "cell_type": "markdown",
      "id": "e01dc968",
      "metadata": {
        "id": "e01dc968"
      },
      "source": [
        "**Зачем это нужно?**\n",
        "\n",
        "Числа с плавающей точкой используются для измерений и расчетов с дробными числами, таких как вес, рост, расстояние и т.д."
      ]
    },
    {
      "cell_type": "markdown",
      "id": "905d70e3",
      "metadata": {
        "id": "905d70e3"
      },
      "source": [
        "#### Преобразование между int и float:"
      ]
    },
    {
      "cell_type": "code",
      "execution_count": null,
      "id": "dbc316f3",
      "metadata": {
        "colab": {
          "base_uri": "https://localhost:8080/"
        },
        "id": "dbc316f3",
        "outputId": "619cb97f-a745-44d0-f659-60b540663811"
      },
      "outputs": [
        {
          "output_type": "stream",
          "name": "stdout",
          "text": [
            "5 <class 'int'>\n",
            "5.0 <class 'float'>\n"
          ]
        }
      ],
      "source": [
        "a = 5\n",
        "print(a, type(a))\n",
        "a = float(a)  # преобразование int в float\n",
        "print(a, type(a))"
      ]
    },
    {
      "cell_type": "markdown",
      "id": "b1effa93",
      "metadata": {
        "id": "b1effa93"
      },
      "source": [
        "#### Задача для практики:"
      ]
    },
    {
      "cell_type": "markdown",
      "id": "da5d6438",
      "metadata": {
        "id": "da5d6438"
      },
      "source": [
        "**Задание:** Попросите пользователя ввести расстояние в километрах и преобразуйте его в мили (1 километр ≈ 0.6214 мили). Выведите результат.\n"
      ]
    },
    {
      "cell_type": "markdown",
      "source": [
        "##### **Решение:**"
      ],
      "metadata": {
        "id": "Ww6U7hboclWj"
      },
      "id": "Ww6U7hboclWj"
    },
    {
      "cell_type": "code",
      "execution_count": null,
      "id": "f71e0938",
      "metadata": {
        "id": "f71e0938"
      },
      "outputs": [],
      "source": [
        "kilometers = float(input(\"Введите расстояние в километрах: \"))\n",
        "miles = kilometers * 0.6214\n",
        "print(\"Расстояние в милях:\", miles)"
      ]
    },
    {
      "cell_type": "markdown",
      "id": "59da1519",
      "metadata": {
        "id": "59da1519"
      },
      "source": [
        "**Объяснение:** Мы преобразуем введенную строку в число с плавающей точкой и рассчитываем эквивалентное расстояние в милях.\n",
        "\n",
        "---"
      ]
    },
    {
      "cell_type": "markdown",
      "id": "d15f30bb",
      "metadata": {
        "id": "d15f30bb"
      },
      "source": [
        "### **Полезные встроенные функции Python: `round()`, `ceil()`, `floor()` и другие**"
      ]
    },
    {
      "cell_type": "markdown",
      "id": "81de5a18",
      "metadata": {
        "id": "81de5a18"
      },
      "source": [
        "#### **Встроенные функции Python**"
      ]
    },
    {
      "cell_type": "markdown",
      "id": "c6194820",
      "metadata": {
        "id": "c6194820"
      },
      "source": [
        "**Встроенные функции** в Python — это функции, которые доступны по умолчанию, без необходимости их импорта из модулей. Они облегчают выполнение распространенных задач и делают код более лаконичным и читаемым."
      ]
    },
    {
      "cell_type": "markdown",
      "id": "fe99752d",
      "metadata": {
        "id": "fe99752d"
      },
      "source": [
        "#### **Функция `round()`**"
      ]
    },
    {
      "cell_type": "markdown",
      "id": "087dbc97",
      "metadata": {
        "id": "087dbc97"
      },
      "source": [
        "##### Описание"
      ]
    },
    {
      "cell_type": "markdown",
      "id": "c2150449",
      "metadata": {
        "id": "c2150449"
      },
      "source": [
        "Функция **`round()`** используется для округления числа до заданного количества знаков после запятой."
      ]
    },
    {
      "cell_type": "markdown",
      "id": "75dc3965",
      "metadata": {
        "id": "75dc3965"
      },
      "source": [
        "##### Синтаксис"
      ]
    },
    {
      "cell_type": "code",
      "execution_count": null,
      "id": "d1c4c69a",
      "metadata": {
        "id": "d1c4c69a"
      },
      "outputs": [],
      "source": [
        "round(number, ndigits)"
      ]
    },
    {
      "cell_type": "markdown",
      "id": "9fa3798d",
      "metadata": {
        "id": "9fa3798d"
      },
      "source": [
        "- **`number`** — число, которое нужно округлить.\n",
        "- **`ndigits`** *(необязательный)* — количество знаков после запятой, до которого нужно округлить. Если не указано, округляет до целого числа."
      ]
    },
    {
      "cell_type": "markdown",
      "id": "2983648c",
      "metadata": {
        "id": "2983648c"
      },
      "source": [
        "##### Примеры использования"
      ]
    },
    {
      "cell_type": "code",
      "execution_count": null,
      "id": "468b9b31",
      "metadata": {
        "colab": {
          "base_uri": "https://localhost:8080/"
        },
        "id": "468b9b31",
        "outputId": "74b239e8-7baa-4574-d37b-60c2a2aae763"
      },
      "outputs": [
        {
          "output_type": "stream",
          "name": "stdout",
          "text": [
            "3\n",
            "3.14\n",
            "-3\n"
          ]
        }
      ],
      "source": [
        "# Округление до ближайшего целого числа\n",
        "print(round(3.14159))       # Вывод: 3\n",
        "\n",
        "# Округление до 2 знаков после запятой\n",
        "print(round(3.14159, 2))    # Вывод: 3.14\n",
        "\n",
        "# Округление отрицательного числа\n",
        "print(round(-2.71828))      # Вывод: -3"
      ]
    },
    {
      "cell_type": "markdown",
      "id": "eed4f52f",
      "metadata": {
        "id": "eed4f52f"
      },
      "source": [
        "##### Особенности"
      ]
    },
    {
      "cell_type": "markdown",
      "id": "7005e135",
      "metadata": {
        "id": "7005e135"
      },
      "source": [
        "- При округлении числа, оканчивающегося на `.5`, функция `round()` округляет до ближайшего чётного числа."
      ]
    },
    {
      "cell_type": "code",
      "execution_count": null,
      "id": "08c9bc84",
      "metadata": {
        "colab": {
          "base_uri": "https://localhost:8080/"
        },
        "id": "08c9bc84",
        "outputId": "c3816a54-8a84-4752-fec7-97397750aad6"
      },
      "outputs": [
        {
          "output_type": "stream",
          "name": "stdout",
          "text": [
            "2\n",
            "4\n"
          ]
        }
      ],
      "source": [
        "print(round(2.5))    # Вывод: 2\n",
        "print(round(3.5))    # Вывод: 4"
      ]
    },
    {
      "cell_type": "markdown",
      "id": "799783a8",
      "metadata": {
        "id": "799783a8"
      },
      "source": [
        "**Объяснение:**\n",
        "\n",
        "- Это связано с методом округления \"до чётного\" (banker's rounding), который помогает снизить систематическую ошибку при округлении большого количества чисел."
      ]
    },
    {
      "cell_type": "markdown",
      "id": "714b01ec",
      "metadata": {
        "id": "714b01ec"
      },
      "source": [
        "#### Функции `math.ceil()` и `math.floor()`"
      ]
    },
    {
      "cell_type": "markdown",
      "id": "7a0cd82e",
      "metadata": {
        "id": "7a0cd82e"
      },
      "source": [
        "Для использования функций **`ceil()`** и **`floor()`** необходимо импортировать модуль `math`."
      ]
    },
    {
      "cell_type": "code",
      "execution_count": null,
      "id": "d2c00ff1",
      "metadata": {
        "id": "d2c00ff1"
      },
      "outputs": [],
      "source": [
        "import math"
      ]
    },
    {
      "cell_type": "markdown",
      "id": "1cd352ec",
      "metadata": {
        "id": "1cd352ec"
      },
      "source": [
        "### **Функция `math.ceil()`**"
      ]
    },
    {
      "cell_type": "markdown",
      "id": "c0906194",
      "metadata": {
        "id": "c0906194"
      },
      "source": [
        "- **Описание:** Возвращает наименьшее целое число, которое не меньше заданного числа (округление вверх)."
      ]
    },
    {
      "cell_type": "markdown",
      "id": "c1989c40",
      "metadata": {
        "id": "c1989c40"
      },
      "source": [
        "#### Синтаксис"
      ]
    },
    {
      "cell_type": "code",
      "execution_count": null,
      "id": "6b4a57c6",
      "metadata": {
        "id": "6b4a57c6"
      },
      "outputs": [],
      "source": [
        "math.ceil(number)"
      ]
    },
    {
      "cell_type": "markdown",
      "id": "7b921f51",
      "metadata": {
        "id": "7b921f51"
      },
      "source": [
        "#### Примеры использования"
      ]
    },
    {
      "cell_type": "code",
      "execution_count": null,
      "id": "202f1ab2",
      "metadata": {
        "colab": {
          "base_uri": "https://localhost:8080/"
        },
        "id": "202f1ab2",
        "outputId": "581de4ae-7389-44c3-a3f3-2d97d4301724"
      },
      "outputs": [
        {
          "output_type": "stream",
          "name": "stdout",
          "text": [
            "4\n",
            "-2\n"
          ]
        }
      ],
      "source": [
        "import math\n",
        "\n",
        "print(math.ceil(3.14159))   # Вывод: 4\n",
        "print(math.ceil(-2.71828))  # Вывод: -2"
      ]
    },
    {
      "cell_type": "markdown",
      "id": "c6754e64",
      "metadata": {
        "id": "c6754e64"
      },
      "source": [
        "### **Функция `math.floor()`**"
      ]
    },
    {
      "cell_type": "markdown",
      "id": "493c6b20",
      "metadata": {
        "id": "493c6b20"
      },
      "source": [
        "- **Описание:** Возвращает наибольшее целое число, которое не больше заданного числа (округление вниз)."
      ]
    },
    {
      "cell_type": "markdown",
      "id": "365e7478",
      "metadata": {
        "id": "365e7478"
      },
      "source": [
        "#### Синтаксис"
      ]
    },
    {
      "cell_type": "code",
      "execution_count": null,
      "id": "b131c86c",
      "metadata": {
        "id": "b131c86c"
      },
      "outputs": [],
      "source": [
        "math.floor(number)"
      ]
    },
    {
      "cell_type": "markdown",
      "id": "80d478fb",
      "metadata": {
        "id": "80d478fb"
      },
      "source": [
        "#### Примеры использования"
      ]
    },
    {
      "cell_type": "code",
      "execution_count": null,
      "id": "1829de36",
      "metadata": {
        "colab": {
          "base_uri": "https://localhost:8080/"
        },
        "id": "1829de36",
        "outputId": "7cfdba29-9050-4dc3-f12e-b559cd257f0b"
      },
      "outputs": [
        {
          "output_type": "stream",
          "name": "stdout",
          "text": [
            "3\n",
            "-3\n"
          ]
        }
      ],
      "source": [
        "import math\n",
        "\n",
        "print(math.floor(3.14159))   # Вывод: 3\n",
        "print(math.floor(-2.71828))  # Вывод: -3"
      ]
    },
    {
      "cell_type": "markdown",
      "id": "baf2ae94",
      "metadata": {
        "id": "baf2ae94"
      },
      "source": [
        "#### **Другие полезные математические функции**"
      ]
    },
    {
      "cell_type": "markdown",
      "id": "41e5e507",
      "metadata": {
        "id": "41e5e507"
      },
      "source": [
        "##### **Функция `abs()`**"
      ]
    },
    {
      "cell_type": "markdown",
      "id": "8703ae3c",
      "metadata": {
        "id": "8703ae3c"
      },
      "source": [
        "- **Описание:** Возвращает модуль (абсолютное значение) числа."
      ]
    },
    {
      "cell_type": "markdown",
      "id": "8945be5e",
      "metadata": {
        "id": "8945be5e"
      },
      "source": [
        "##### Пример"
      ]
    },
    {
      "cell_type": "code",
      "execution_count": null,
      "id": "e81445a6",
      "metadata": {
        "colab": {
          "base_uri": "https://localhost:8080/"
        },
        "id": "e81445a6",
        "outputId": "240f21db-e959-4678-e65f-85c9d3d6c5f0"
      },
      "outputs": [
        {
          "output_type": "stream",
          "name": "stdout",
          "text": [
            "10\n",
            "3.14\n"
          ]
        }
      ],
      "source": [
        "print(abs(-10))     # Вывод: 10\n",
        "print(abs(3.14))    # Вывод: 3.14"
      ]
    },
    {
      "cell_type": "markdown",
      "id": "5e1efc10",
      "metadata": {
        "id": "5e1efc10"
      },
      "source": [
        "##### **Функция `pow()`**"
      ]
    },
    {
      "cell_type": "markdown",
      "id": "24519ee2",
      "metadata": {
        "id": "24519ee2"
      },
      "source": [
        "- **Описание:** Возводит число в степень."
      ]
    },
    {
      "cell_type": "markdown",
      "id": "7892555d",
      "metadata": {
        "id": "7892555d"
      },
      "source": [
        "###### Синтаксис"
      ]
    },
    {
      "cell_type": "code",
      "execution_count": null,
      "id": "367356b0",
      "metadata": {
        "id": "367356b0"
      },
      "outputs": [],
      "source": [
        "pow(base, exp)"
      ]
    },
    {
      "cell_type": "markdown",
      "id": "b2b26a91",
      "metadata": {
        "id": "b2b26a91"
      },
      "source": [
        "###### Пример"
      ]
    },
    {
      "cell_type": "code",
      "execution_count": null,
      "id": "2839f877",
      "metadata": {
        "colab": {
          "base_uri": "https://localhost:8080/"
        },
        "id": "2839f877",
        "outputId": "4d7d235e-94d0-4c74-c27f-f20affa8dc8a"
      },
      "outputs": [
        {
          "output_type": "stream",
          "name": "stdout",
          "text": [
            "8\n"
          ]
        }
      ],
      "source": [
        "print(pow(2, 3))    # Вывод: 8 (2 в степени 3)"
      ]
    },
    {
      "cell_type": "markdown",
      "id": "d76896fe",
      "metadata": {
        "id": "d76896fe"
      },
      "source": [
        "##### **Функция `divmod()`**"
      ]
    },
    {
      "cell_type": "markdown",
      "id": "d269fe1d",
      "metadata": {
        "id": "d269fe1d"
      },
      "source": [
        "- **Описание:** Возвращает кортеж из частного и остатка от деления."
      ]
    },
    {
      "cell_type": "markdown",
      "id": "715148ac",
      "metadata": {
        "id": "715148ac"
      },
      "source": [
        "###### Синтаксис"
      ]
    },
    {
      "cell_type": "code",
      "execution_count": null,
      "id": "7b4d4e0a",
      "metadata": {
        "id": "7b4d4e0a"
      },
      "outputs": [],
      "source": [
        "divmod(a, b)"
      ]
    },
    {
      "cell_type": "code",
      "execution_count": null,
      "id": "3ebd08ce",
      "metadata": {
        "colab": {
          "base_uri": "https://localhost:8080/"
        },
        "id": "3ebd08ce",
        "outputId": "e6b83e49-6995-4bd1-b30c-b3ce0a507dc7"
      },
      "outputs": [
        {
          "output_type": "stream",
          "name": "stdout",
          "text": [
            "(5, 2)\n"
          ]
        }
      ],
      "source": [
        "print(divmod(17, 3))   # Вывод: (5, 2)"
      ]
    },
    {
      "cell_type": "markdown",
      "id": "0f4a4e66",
      "metadata": {
        "id": "0f4a4e66"
      },
      "source": [
        "##### **Функции `min()` и `max()`**"
      ]
    },
    {
      "cell_type": "markdown",
      "id": "d1c255f3",
      "metadata": {
        "id": "d1c255f3"
      },
      "source": [
        "- **Описание:** Возвращают наименьшее и наибольшее значение соответственно из переданных аргументов или итерируемого объекта."
      ]
    },
    {
      "cell_type": "markdown",
      "id": "731de1cc",
      "metadata": {
        "id": "731de1cc"
      },
      "source": [
        "#### **Пример**"
      ]
    },
    {
      "cell_type": "code",
      "execution_count": null,
      "id": "923d400f",
      "metadata": {
        "id": "923d400f"
      },
      "outputs": [],
      "source": [
        "numbers = [5, 2, 9, 1, 7]\n",
        "print(min(numbers))    # Вывод: 1\n",
        "print(max(numbers))    # Вывод: 9"
      ]
    },
    {
      "cell_type": "markdown",
      "id": "22e1c498",
      "metadata": {
        "id": "22e1c498"
      },
      "source": [
        "### **Строки (`str`)**"
      ]
    },
    {
      "cell_type": "markdown",
      "id": "7f55bd99",
      "metadata": {
        "id": "7f55bd99"
      },
      "source": [
        "**str** используется для хранения текстовой информации."
      ]
    },
    {
      "cell_type": "markdown",
      "id": "ea3cdd6b",
      "metadata": {
        "id": "ea3cdd6b"
      },
      "source": [
        "#### Пример использования:"
      ]
    },
    {
      "cell_type": "code",
      "execution_count": null,
      "id": "045ce6f5",
      "metadata": {
        "colab": {
          "base_uri": "https://localhost:8080/"
        },
        "id": "045ce6f5",
        "outputId": "81d01403-c0e0-44c6-e522-b965b3fcb6fe"
      },
      "outputs": [
        {
          "output_type": "stream",
          "name": "stdout",
          "text": [
            "Здравствуйте\n",
            "Тип: <class 'str'>\n"
          ]
        }
      ],
      "source": [
        "greeting = \"Здравствуйте\"\n",
        "print(greeting)\n",
        "print(\"Тип:\", type(greeting))"
      ]
    },
    {
      "cell_type": "markdown",
      "id": "2d0fe842",
      "metadata": {
        "id": "2d0fe842"
      },
      "source": [
        "**Зачем это нужно?**\n",
        "\n",
        "Строки позволяют работать с текстом: именами, сообщениями, описаниями и т.д."
      ]
    },
    {
      "cell_type": "markdown",
      "id": "b953ba55",
      "metadata": {
        "id": "b953ba55"
      },
      "source": [
        "#### Задача для практики:"
      ]
    },
    {
      "cell_type": "markdown",
      "id": "3c1902f7",
      "metadata": {
        "id": "3c1902f7"
      },
      "source": [
        "**Задание:** Попросите пользователя ввести свое имя и фамилию. Затем выведите сообщение с их полным именем."
      ]
    },
    {
      "cell_type": "markdown",
      "source": [
        "##### **Решение:**"
      ],
      "metadata": {
        "id": "fhvYkmwdctYq"
      },
      "id": "fhvYkmwdctYq"
    },
    {
      "cell_type": "code",
      "execution_count": null,
      "id": "553b3b13",
      "metadata": {
        "id": "553b3b13"
      },
      "outputs": [],
      "source": [
        "first_name = input(\"Введите ваше имя: \")\n",
        "last_name = input(\"Введите вашу фамилию: \")\n",
        "full_name = first_name + \" \" + last_name\n",
        "print(\"Ваше полное имя:\", full_name)"
      ]
    },
    {
      "cell_type": "code",
      "source": [
        "first_name = input(\"Введите ваше имя: \")\n",
        "last_name = input(\"Введите вашу фамилию: \")\n",
        "\n",
        "year = 2025 - int(input(\"Введите Ваш возраст: \"))\n",
        "\n",
        "full_name = first_name + \" \" + last_name\n",
        "print(\"Ваше полное имя:\", full_name, \"\\nВы родились в\", 2025-age, 'или', 2025 - age - 1, 'году.')\n",
        "\n",
        "print(\"Ваше полное имя: \" + full_name + \"\\nВы родились в \" + str(2025-age) + ' или '+ str(2025 - age - 1) + ' году.')\n",
        "\n",
        "\n",
        "print(f'Ваше полное имя: {full_name}\\nВы родились в {year} или {year-1} году.')"
      ],
      "metadata": {
        "colab": {
          "base_uri": "https://localhost:8080/"
        },
        "id": "EF0LVTTGasoo",
        "outputId": "1547614d-2436-4271-928e-32713e2a244e"
      },
      "id": "EF0LVTTGasoo",
      "execution_count": null,
      "outputs": [
        {
          "output_type": "stream",
          "name": "stdout",
          "text": [
            "Введите ваше имя: Иван\n",
            "Введите вашу фамилию: Иванов\n",
            "Введите Ваш возраст: 25\n",
            "Ваше полное имя: Иван Иванов \n",
            "Вы родились в 1998 или 1997 году.\n",
            "Ваше полное имя: Иван Иванов\n",
            "Вы родились в 1998 или 1997 году.\n",
            "Ваше полное имя: Иван Иванов\n",
            "Вы родились в 2000 или 1999 году.\n"
          ]
        }
      ]
    },
    {
      "cell_type": "markdown",
      "id": "ed8218d7",
      "metadata": {
        "id": "ed8218d7"
      },
      "source": [
        "**Объяснение:** Мы объединяем строки с помощью оператора `+` и добавляем пробел между именем и фамилией.\n",
        "\n",
        "---"
      ]
    },
    {
      "cell_type": "markdown",
      "id": "d8c8412c",
      "metadata": {
        "id": "d8c8412c"
      },
      "source": [
        "### **Специальное значение *`None`**"
      ]
    },
    {
      "cell_type": "markdown",
      "id": "f7c90f80",
      "metadata": {
        "id": "f7c90f80"
      },
      "source": [
        "**None** означает отсутствие значения."
      ]
    },
    {
      "cell_type": "markdown",
      "id": "895afacd",
      "metadata": {
        "id": "895afacd"
      },
      "source": [
        "#### Пример использования:"
      ]
    },
    {
      "cell_type": "code",
      "execution_count": null,
      "id": "db083bfb",
      "metadata": {
        "colab": {
          "base_uri": "https://localhost:8080/"
        },
        "id": "db083bfb",
        "outputId": "d1604a74-e467-45f2-c64c-3b0555069de5"
      },
      "outputs": [
        {
          "output_type": "stream",
          "name": "stdout",
          "text": [
            "Результат до вычисления: None\n",
            "Тип: <class 'NoneType'>\n"
          ]
        }
      ],
      "source": [
        "result = None\n",
        "print(\"Результат до вычисления:\", result)\n",
        "print(\"Тип:\", type(result))"
      ]
    },
    {
      "cell_type": "markdown",
      "id": "f89247bc",
      "metadata": {
        "id": "f89247bc"
      },
      "source": [
        "**Зачем это нужно?**\n",
        "\n",
        "Используется для инициализации переменных, которые еще не получили значение, или для обозначения отсутствия данных.\n",
        "\n",
        "**Важно:** None нельзя привести к другим типам данных. Проверить на None можно с помощью оператора `is`:"
      ]
    },
    {
      "cell_type": "code",
      "execution_count": null,
      "id": "e247e55b",
      "metadata": {
        "colab": {
          "base_uri": "https://localhost:8080/"
        },
        "id": "e247e55b",
        "outputId": "db50dc1f-47dd-41df-e377-19f7ccd35c1a"
      },
      "outputs": [
        {
          "output_type": "stream",
          "name": "stdout",
          "text": [
            "Теперь у меня есть значение!\n"
          ]
        }
      ],
      "source": [
        "if result is None:\n",
        "    result = 'Теперь у меня есть значение!'\n",
        "print(result)"
      ]
    },
    {
      "cell_type": "code",
      "source": [
        "a = 1\n",
        "b = 1\n",
        "\n",
        "print(hex(id(a)), hex(id(b)))\n",
        "\n",
        "print(a == b)\n",
        "print(a is b)\n",
        "\n",
        "b = 2\n",
        "\n",
        "print(hex(id(a)), hex(id(b)))"
      ],
      "metadata": {
        "colab": {
          "base_uri": "https://localhost:8080/"
        },
        "id": "pXe8aBWPs-Di",
        "outputId": "e42df17b-7b11-4524-a27b-c583eb5e33c2"
      },
      "id": "pXe8aBWPs-Di",
      "execution_count": null,
      "outputs": [
        {
          "output_type": "stream",
          "name": "stdout",
          "text": [
            "0xb1a4e8 0xb1a4e8\n",
            "True\n",
            "True\n",
            "0xb1a4e8 0xb1a508\n"
          ]
        }
      ]
    },
    {
      "cell_type": "markdown",
      "id": "ac0e24ec",
      "metadata": {
        "id": "ac0e24ec"
      },
      "source": [
        "#### Задача для практики:"
      ]
    },
    {
      "cell_type": "markdown",
      "id": "2497ac53",
      "metadata": {
        "id": "2497ac53"
      },
      "source": [
        "**Задание:** Создайте переменную `user_data` и присвойте ей значение `None`. Затем попросите пользователя ввести данные и присвойте их переменной `user_data`. Выведите значение переменной до и после ввода данных."
      ]
    },
    {
      "cell_type": "markdown",
      "source": [
        "##### **Решение:**"
      ],
      "metadata": {
        "id": "_JQo_6d4cwPZ"
      },
      "id": "_JQo_6d4cwPZ"
    },
    {
      "cell_type": "code",
      "execution_count": null,
      "id": "f02378ed",
      "metadata": {
        "id": "f02378ed"
      },
      "outputs": [],
      "source": [
        "user_data = None\n",
        "print(\"До ввода данных:\", user_data)\n",
        "user_data = input(\"Введите какие-нибудь данные: \")\n",
        "print(\"После ввода данных:\", user_data)"
      ]
    },
    {
      "cell_type": "markdown",
      "id": "d3b4a2cf",
      "metadata": {
        "id": "d3b4a2cf"
      },
      "source": [
        "**Объяснение:** Мы показываем, что переменная изначально не имеет значения, а затем присваиваем ей введенные пользователем данные.\n",
        "\n",
        "---"
      ]
    },
    {
      "cell_type": "markdown",
      "id": "d45ccd97",
      "metadata": {
        "id": "d45ccd97"
      },
      "source": [
        "### **Строки (`str`) в Python и их основные методы**"
      ]
    },
    {
      "cell_type": "markdown",
      "id": "33c54398",
      "metadata": {
        "id": "33c54398"
      },
      "source": [
        "#### Что такое строки в Python?"
      ]
    },
    {
      "cell_type": "markdown",
      "id": "7c7393b0",
      "metadata": {
        "id": "7c7393b0"
      },
      "source": [
        "**Строка** — это **последовательность символов**, используемая для хранения и обработки текстовых данных. В Python строки являются **неизменяемыми** последовательностями, то есть после создания строки вы не можете изменить её содержимое. Однако вы можете создавать новые строки на основе существующих, используя различные методы и операции."
      ]
    },
    {
      "cell_type": "markdown",
      "id": "b9657a34",
      "metadata": {
        "id": "b9657a34"
      },
      "source": [
        "#### Создание строк"
      ]
    },
    {
      "cell_type": "markdown",
      "id": "ce82067b",
      "metadata": {
        "id": "ce82067b"
      },
      "source": [
        "Строки можно создавать, заключая текст в одинарные `' '`, двойные `\" \"`, тройные одинарные `''' '''` или тройные двойные кавычки `\"\"\" \"\"\"`."
      ]
    },
    {
      "cell_type": "markdown",
      "id": "69ee4107",
      "metadata": {
        "id": "69ee4107"
      },
      "source": [
        "#### Примеры:"
      ]
    },
    {
      "cell_type": "code",
      "execution_count": null,
      "id": "cf7685ac",
      "metadata": {
        "id": "cf7685ac"
      },
      "outputs": [],
      "source": [
        "# Одинарные кавычки\n",
        "my_str1 = 'Привет, мир!'\n",
        "\n",
        "# Двойные кавычки\n",
        "my_str2 = \"Python — удивительный язык!\"\n",
        "\n",
        "# Тройные кавычки (для многострочных строк)\n",
        "my_str3 = '''Это многострочная строка.\n",
        "Она занимает несколько строк.'''\n",
        "\n",
        "my_str4 = \"\"\"И это тоже\n",
        "многострочная строка.\"\"\""
      ]
    },
    {
      "cell_type": "code",
      "source": [
        "help(print)"
      ],
      "metadata": {
        "colab": {
          "base_uri": "https://localhost:8080/"
        },
        "id": "ZHg3Y_MG5wob",
        "outputId": "75d2d817-a26b-44c1-a6a8-cda353b56de9"
      },
      "id": "ZHg3Y_MG5wob",
      "execution_count": null,
      "outputs": [
        {
          "output_type": "stream",
          "name": "stdout",
          "text": [
            "Help on built-in function print in module builtins:\n",
            "\n",
            "print(*args, sep=' ', end='\\n', file=None, flush=False)\n",
            "    Prints the values to a stream, or to sys.stdout by default.\n",
            "\n",
            "    sep\n",
            "      string inserted between values, default a space.\n",
            "    end\n",
            "      string appended after the last value, default a newline.\n",
            "    file\n",
            "      a file-like object (stream); defaults to the current sys.stdout.\n",
            "    flush\n",
            "      whether to forcibly flush the stream.\n",
            "\n"
          ]
        }
      ]
    },
    {
      "cell_type": "markdown",
      "id": "ef717084",
      "metadata": {
        "id": "ef717084"
      },
      "source": [
        "---"
      ]
    },
    {
      "cell_type": "code",
      "source": [
        "help(pow)"
      ],
      "metadata": {
        "id": "16NR46Gfh9Dl",
        "outputId": "dea94a24-35ab-46ec-d3bc-d46891f4eefa",
        "colab": {
          "base_uri": "https://localhost:8080/"
        }
      },
      "id": "16NR46Gfh9Dl",
      "execution_count": 2,
      "outputs": [
        {
          "output_type": "stream",
          "name": "stdout",
          "text": [
            "Help on built-in function pow in module builtins:\n",
            "\n",
            "pow(base, exp, mod=None)\n",
            "    Equivalent to base**exp with 2 arguments or base**exp % mod with 3 arguments\n",
            "\n",
            "    Some types, such as ints, are able to use a more efficient algorithm when\n",
            "    invoked using the three argument form.\n",
            "\n"
          ]
        }
      ]
    },
    {
      "cell_type": "code",
      "source": [
        "import math\n",
        "dir(math)"
      ],
      "metadata": {
        "id": "4gCbqol6iEVk",
        "outputId": "1be127ff-0441-4e5f-99ef-d47f6c95f7b0",
        "colab": {
          "base_uri": "https://localhost:8080/"
        }
      },
      "id": "4gCbqol6iEVk",
      "execution_count": 6,
      "outputs": [
        {
          "output_type": "execute_result",
          "data": {
            "text/plain": [
              "['__doc__',\n",
              " '__loader__',\n",
              " '__name__',\n",
              " '__package__',\n",
              " '__spec__',\n",
              " 'acos',\n",
              " 'acosh',\n",
              " 'asin',\n",
              " 'asinh',\n",
              " 'atan',\n",
              " 'atan2',\n",
              " 'atanh',\n",
              " 'cbrt',\n",
              " 'ceil',\n",
              " 'comb',\n",
              " 'copysign',\n",
              " 'cos',\n",
              " 'cosh',\n",
              " 'degrees',\n",
              " 'dist',\n",
              " 'e',\n",
              " 'erf',\n",
              " 'erfc',\n",
              " 'exp',\n",
              " 'exp2',\n",
              " 'expm1',\n",
              " 'fabs',\n",
              " 'factorial',\n",
              " 'floor',\n",
              " 'fmod',\n",
              " 'frexp',\n",
              " 'fsum',\n",
              " 'gamma',\n",
              " 'gcd',\n",
              " 'hypot',\n",
              " 'inf',\n",
              " 'isclose',\n",
              " 'isfinite',\n",
              " 'isinf',\n",
              " 'isnan',\n",
              " 'isqrt',\n",
              " 'lcm',\n",
              " 'ldexp',\n",
              " 'lgamma',\n",
              " 'log',\n",
              " 'log10',\n",
              " 'log1p',\n",
              " 'log2',\n",
              " 'modf',\n",
              " 'nan',\n",
              " 'nextafter',\n",
              " 'perm',\n",
              " 'pi',\n",
              " 'pow',\n",
              " 'prod',\n",
              " 'radians',\n",
              " 'remainder',\n",
              " 'sin',\n",
              " 'sinh',\n",
              " 'sqrt',\n",
              " 'sumprod',\n",
              " 'tan',\n",
              " 'tanh',\n",
              " 'tau',\n",
              " 'trunc',\n",
              " 'ulp']"
            ]
          },
          "metadata": {},
          "execution_count": 6
        }
      ]
    },
    {
      "cell_type": "markdown",
      "id": "587bec97",
      "metadata": {
        "id": "587bec97"
      },
      "source": [
        "#### **Основные операции со строками**"
      ]
    },
    {
      "cell_type": "markdown",
      "id": "b6426b83",
      "metadata": {
        "id": "b6426b83"
      },
      "source": [
        "##### 1. Конкатенация (сложение строк)"
      ]
    },
    {
      "cell_type": "markdown",
      "id": "c4f9b19a",
      "metadata": {
        "id": "c4f9b19a"
      },
      "source": [
        "Вы можете объединять строки с помощью оператора `+`."
      ]
    },
    {
      "cell_type": "code",
      "execution_count": null,
      "id": "17ac1c23",
      "metadata": {
        "colab": {
          "base_uri": "https://localhost:8080/"
        },
        "id": "17ac1c23",
        "outputId": "5d122e10-c44c-4fd7-9917-3b5ac0e8712d"
      },
      "outputs": [
        {
          "output_type": "stream",
          "name": "stdout",
          "text": [
            "Hello, world!\n"
          ]
        }
      ],
      "source": [
        "str1 = \"Hello, \"\n",
        "str2 = \"world!\"\n",
        "result = str1 + str2\n",
        "print(result)  # Вывод: Hello, world!"
      ]
    },
    {
      "cell_type": "markdown",
      "id": "2cd320e4",
      "metadata": {
        "id": "2cd320e4"
      },
      "source": [
        "##### 2. Повторение строк"
      ]
    },
    {
      "cell_type": "markdown",
      "id": "40378d91",
      "metadata": {
        "id": "40378d91"
      },
      "source": [
        "Оператор `*` позволяет повторять строку заданное количество раз."
      ]
    },
    {
      "cell_type": "code",
      "execution_count": null,
      "id": "5e6129dd",
      "metadata": {
        "colab": {
          "base_uri": "https://localhost:8080/"
        },
        "id": "5e6129dd",
        "outputId": "f3027344-497f-4651-9e08-ad5004111c97"
      },
      "outputs": [
        {
          "output_type": "stream",
          "name": "stdout",
          "text": [
            "HaHaHaHaHa\n"
          ]
        }
      ],
      "source": [
        "str3 = \"Ha\"\n",
        "laugh = str3 * 5\n",
        "print(laugh)  # Вывод: HaHaHaHaHa"
      ]
    },
    {
      "cell_type": "markdown",
      "id": "4cd2df76",
      "metadata": {
        "id": "4cd2df76"
      },
      "source": [
        "##### 3. Доступ к символам и срезам"
      ]
    },
    {
      "cell_type": "markdown",
      "id": "fb2a2843",
      "metadata": {
        "id": "fb2a2843"
      },
      "source": [
        "###### Индексация"
      ]
    },
    {
      "cell_type": "markdown",
      "id": "3357f658",
      "metadata": {
        "id": "3357f658"
      },
      "source": [
        "Получение символа по его индексу (начиная с 0)."
      ]
    },
    {
      "cell_type": "code",
      "execution_count": null,
      "id": "c8e0f1bf",
      "metadata": {
        "colab": {
          "base_uri": "https://localhost:8080/"
        },
        "id": "c8e0f1bf",
        "outputId": "da0ea560-a603-4e49-c86c-33e43b5874b5"
      },
      "outputs": [
        {
          "output_type": "stream",
          "name": "stdout",
          "text": [
            "P\n",
            "h\n"
          ]
        }
      ],
      "source": [
        "my_str = \"Python\"\n",
        "print(my_str[0])  # Вывод: P\n",
        "print(my_str[3])  # Вывод: h"
      ]
    },
    {
      "cell_type": "markdown",
      "id": "7846ac26",
      "metadata": {
        "id": "7846ac26"
      },
      "source": [
        "###### Срезы (substring)"
      ]
    },
    {
      "cell_type": "markdown",
      "id": "a90aa8b6",
      "metadata": {
        "id": "a90aa8b6"
      },
      "source": [
        "Получение подстроки из строки."
      ]
    },
    {
      "cell_type": "code",
      "execution_count": null,
      "id": "3aebfe05",
      "metadata": {
        "colab": {
          "base_uri": "https://localhost:8080/"
        },
        "id": "3aebfe05",
        "outputId": "48251667-7dd1-421e-8de5-be15d2c96994"
      },
      "outputs": [
        {
          "output_type": "stream",
          "name": "stdout",
          "text": [
            "yth\n"
          ]
        }
      ],
      "source": [
        "substring = my_str[1:4]  # Символы с индекса 1 до 3\n",
        "print(substring)  # Вывод: yth"
      ]
    },
    {
      "cell_type": "markdown",
      "id": "8efcc57a",
      "metadata": {
        "id": "8efcc57a"
      },
      "source": [
        "###### Отрицательные индексы"
      ]
    },
    {
      "cell_type": "markdown",
      "id": "2e2730c5",
      "metadata": {
        "id": "2e2730c5"
      },
      "source": [
        "Используются для доступа к символам с конца строки."
      ]
    },
    {
      "cell_type": "code",
      "execution_count": null,
      "id": "edf0d3a5",
      "metadata": {
        "colab": {
          "base_uri": "https://localhost:8080/"
        },
        "id": "edf0d3a5",
        "outputId": "118d3538-4cfd-4bf3-883e-033db2284da0"
      },
      "outputs": [
        {
          "output_type": "stream",
          "name": "stdout",
          "text": [
            "n\n",
            "hon\n"
          ]
        }
      ],
      "source": [
        "print(my_str[-1])  # Вывод: n\n",
        "print(my_str[-3:])  # Вывод: hon"
      ]
    },
    {
      "cell_type": "code",
      "source": [
        "my_str = \"Python\""
      ],
      "metadata": {
        "id": "6fjXImiofazY"
      },
      "id": "6fjXImiofazY",
      "execution_count": null,
      "outputs": []
    },
    {
      "cell_type": "markdown",
      "id": "1f8bb226",
      "metadata": {
        "id": "1f8bb226"
      },
      "source": [
        "##### 4. Проверка вхождения подстроки"
      ]
    },
    {
      "cell_type": "code",
      "execution_count": null,
      "id": "5ec18e9f",
      "metadata": {
        "id": "5ec18e9f"
      },
      "outputs": [],
      "source": [
        "s = 'ya stroka'\n",
        "if 'ya' in s:\n",
        "    print(\"Подстрока найдена!\")"
      ]
    },
    {
      "cell_type": "code",
      "source": [
        "my_str = \"Python\""
      ],
      "metadata": {
        "id": "eCJdlqG2xcFx"
      },
      "id": "eCJdlqG2xcFx",
      "execution_count": null,
      "outputs": []
    },
    {
      "cell_type": "markdown",
      "id": "3858af10",
      "metadata": {
        "id": "3858af10"
      },
      "source": [
        "---"
      ]
    },
    {
      "cell_type": "markdown",
      "id": "fe3e4f9f",
      "metadata": {
        "id": "fe3e4f9f"
      },
      "source": [
        "#### **Основные методы строк**"
      ]
    },
    {
      "cell_type": "markdown",
      "id": "a311032c",
      "metadata": {
        "id": "a311032c"
      },
      "source": [
        "Строки в Python имеют множество встроенных методов, которые позволяют выполнять различные операции. Рассмотрим наиболее часто используемые."
      ]
    },
    {
      "cell_type": "markdown",
      "id": "28bbd73b",
      "metadata": {
        "id": "28bbd73b"
      },
      "source": [
        "##### **1. Изменение регистра**"
      ]
    },
    {
      "cell_type": "markdown",
      "id": "9b8c21ea",
      "metadata": {
        "id": "9b8c21ea"
      },
      "source": [
        "###### `.upper()`"
      ]
    },
    {
      "cell_type": "markdown",
      "id": "6dc50a7d",
      "metadata": {
        "id": "6dc50a7d"
      },
      "source": [
        "Преобразует все символы строки в верхний регистр."
      ]
    },
    {
      "cell_type": "code",
      "execution_count": null,
      "id": "afacd9ce",
      "metadata": {
        "colab": {
          "base_uri": "https://localhost:8080/"
        },
        "id": "afacd9ce",
        "outputId": "c8d3b89d-b344-4698-d861-7d2fd09a4f9c"
      },
      "outputs": [
        {
          "output_type": "stream",
          "name": "stdout",
          "text": [
            "HELLO, WORLD!\n"
          ]
        }
      ],
      "source": [
        "text = \"Hello, World!\"\n",
        "print(text.upper())  # Вывод: HELLO, WORLD!"
      ]
    },
    {
      "cell_type": "markdown",
      "id": "9d39dc6d",
      "metadata": {
        "id": "9d39dc6d"
      },
      "source": [
        "###### `.lower()`"
      ]
    },
    {
      "cell_type": "markdown",
      "id": "956d60b3",
      "metadata": {
        "id": "956d60b3"
      },
      "source": [
        "Преобразует все символы строки в нижний регистр."
      ]
    },
    {
      "cell_type": "code",
      "execution_count": null,
      "id": "1b468263",
      "metadata": {
        "colab": {
          "base_uri": "https://localhost:8080/"
        },
        "id": "1b468263",
        "outputId": "b686cf9f-d993-4a02-a7a9-f2f7b7383abf"
      },
      "outputs": [
        {
          "output_type": "stream",
          "name": "stdout",
          "text": [
            "hello, world!\n"
          ]
        }
      ],
      "source": [
        "print(text.lower())  # Вывод: hello, world!"
      ]
    },
    {
      "cell_type": "markdown",
      "id": "8189610e",
      "metadata": {
        "id": "8189610e"
      },
      "source": [
        "###### `.capitalize()`"
      ]
    },
    {
      "cell_type": "markdown",
      "id": "b689f0c7",
      "metadata": {
        "id": "b689f0c7"
      },
      "source": [
        "Преобразует первый символ строки в верхний регистр, остальные — в нижний."
      ]
    },
    {
      "cell_type": "code",
      "execution_count": null,
      "id": "3f7ea23d",
      "metadata": {
        "colab": {
          "base_uri": "https://localhost:8080/"
        },
        "id": "3f7ea23d",
        "outputId": "d374c350-af9d-4fde-9061-8bbfdc3d0407"
      },
      "outputs": [
        {
          "output_type": "stream",
          "name": "stdout",
          "text": [
            "Hello, world!\n"
          ]
        }
      ],
      "source": [
        "print(text.capitalize())  # Вывод: Hello, world!"
      ]
    },
    {
      "cell_type": "markdown",
      "id": "b5efd02f",
      "metadata": {
        "id": "b5efd02f"
      },
      "source": [
        "###### `.title()`"
      ]
    },
    {
      "cell_type": "markdown",
      "id": "a37e89e6",
      "metadata": {
        "id": "a37e89e6"
      },
      "source": [
        "Преобразует первые буквы всех слов в строке в верхний регистр."
      ]
    },
    {
      "cell_type": "code",
      "execution_count": null,
      "id": "ff2e63b4",
      "metadata": {
        "colab": {
          "base_uri": "https://localhost:8080/"
        },
        "id": "ff2e63b4",
        "outputId": "014c8c34-e215-44ce-fd96-448db9e571bc"
      },
      "outputs": [
        {
          "output_type": "stream",
          "name": "stdout",
          "text": [
            "Hello, World!\n"
          ]
        }
      ],
      "source": [
        "print(text.title())  # Вывод: Hello, World!"
      ]
    },
    {
      "cell_type": "markdown",
      "id": "3d021274",
      "metadata": {
        "id": "3d021274"
      },
      "source": [
        "##### **2. Удаление пробельных символов**"
      ]
    },
    {
      "cell_type": "markdown",
      "id": "ad2c7daf",
      "metadata": {
        "id": "ad2c7daf"
      },
      "source": [
        "###### `.strip()`"
      ]
    },
    {
      "cell_type": "markdown",
      "id": "b6445774",
      "metadata": {
        "id": "b6445774"
      },
      "source": [
        "Удаляет пробельные символы в начале и в конце строки."
      ]
    },
    {
      "cell_type": "code",
      "execution_count": null,
      "id": "25c514f0",
      "metadata": {
        "colab": {
          "base_uri": "https://localhost:8080/"
        },
        "id": "25c514f0",
        "outputId": "65fe14dd-eeb4-48ed-fc74-6735401334b1"
      },
      "outputs": [
        {
          "output_type": "stream",
          "name": "stdout",
          "text": [
            "Python\n"
          ]
        }
      ],
      "source": [
        "text_with_spaces = \"   Python   \"\n",
        "print(text_with_spaces.strip())  # Вывод: Python"
      ]
    },
    {
      "cell_type": "markdown",
      "id": "65c4d7d8",
      "metadata": {
        "id": "65c4d7d8"
      },
      "source": [
        "###### `.lstrip()`"
      ]
    },
    {
      "cell_type": "markdown",
      "id": "ceac3152",
      "metadata": {
        "id": "ceac3152"
      },
      "source": [
        "Удаляет пробелы в начале строки."
      ]
    },
    {
      "cell_type": "code",
      "execution_count": null,
      "id": "00fe50a9",
      "metadata": {
        "colab": {
          "base_uri": "https://localhost:8080/"
        },
        "id": "00fe50a9",
        "outputId": "b3baa9d2-3932-4f52-b238-8a19bb1d7495"
      },
      "outputs": [
        {
          "output_type": "stream",
          "name": "stdout",
          "text": [
            "Python   \n"
          ]
        }
      ],
      "source": [
        "print(text_with_spaces.lstrip())  # Вывод: Python   \""
      ]
    },
    {
      "cell_type": "markdown",
      "id": "46638de8",
      "metadata": {
        "id": "46638de8"
      },
      "source": [
        "###### `.rstrip()`"
      ]
    },
    {
      "cell_type": "markdown",
      "id": "915a8963",
      "metadata": {
        "id": "915a8963"
      },
      "source": [
        "Удаляет пробелы в конце строки."
      ]
    },
    {
      "cell_type": "code",
      "execution_count": null,
      "id": "92acb753",
      "metadata": {
        "colab": {
          "base_uri": "https://localhost:8080/"
        },
        "id": "92acb753",
        "outputId": "c4135559-cc84-4694-c092-07c2ac945628"
      },
      "outputs": [
        {
          "output_type": "stream",
          "name": "stdout",
          "text": [
            "   Python\n"
          ]
        }
      ],
      "source": [
        "print(text_with_spaces.rstrip())  # Вывод: \"   Python\""
      ]
    },
    {
      "cell_type": "markdown",
      "id": "a75900be",
      "metadata": {
        "id": "a75900be"
      },
      "source": [
        "##### **3. Поиск и замена**"
      ]
    },
    {
      "cell_type": "markdown",
      "id": "ad58ff51",
      "metadata": {
        "id": "ad58ff51"
      },
      "source": [
        "###### `.find(substring)`"
      ]
    },
    {
      "cell_type": "markdown",
      "id": "5264a49f",
      "metadata": {
        "id": "5264a49f"
      },
      "source": [
        "Возвращает индекс первого вхождения подстроки. Если подстрока не найдена, возвращает `-1`."
      ]
    },
    {
      "cell_type": "code",
      "execution_count": null,
      "id": "cf60ff9d",
      "metadata": {
        "colab": {
          "base_uri": "https://localhost:8080/"
        },
        "id": "cf60ff9d",
        "outputId": "b2bd8357-700f-4041-bb31-57e61b8134ca"
      },
      "outputs": [
        {
          "output_type": "stream",
          "name": "stdout",
          "text": [
            "9\n"
          ]
        }
      ],
      "source": [
        "sentence = \"Learning Python is fun!\"\n",
        "index = sentence.find(\"Python\")\n",
        "print(index)"
      ]
    },
    {
      "cell_type": "markdown",
      "id": "67f32990",
      "metadata": {
        "id": "67f32990"
      },
      "source": [
        "###### `.index(substring)`"
      ]
    },
    {
      "cell_type": "markdown",
      "id": "f1ba3809",
      "metadata": {
        "id": "f1ba3809"
      },
      "source": [
        "Как и `.find()`, но вызывает ошибку `ValueError`, если подстрока не найдена."
      ]
    },
    {
      "cell_type": "code",
      "source": [
        "index = sentence.index(\"Python\")\n",
        "index"
      ],
      "metadata": {
        "colab": {
          "base_uri": "https://localhost:8080/"
        },
        "id": "KEJStNmRzC31",
        "outputId": "5d626a54-6177-479e-b145-2d0af8d3c6b2"
      },
      "id": "KEJStNmRzC31",
      "execution_count": null,
      "outputs": [
        {
          "output_type": "execute_result",
          "data": {
            "text/plain": [
              "9"
            ]
          },
          "metadata": {},
          "execution_count": 60
        }
      ]
    },
    {
      "cell_type": "code",
      "execution_count": null,
      "id": "efe52214",
      "metadata": {
        "colab": {
          "base_uri": "https://localhost:8080/"
        },
        "id": "efe52214",
        "outputId": "552ef7c2-2b83-416d-940b-da565a14021f"
      },
      "outputs": [
        {
          "output_type": "stream",
          "name": "stdout",
          "text": [
            "Подстрока не найдена\n"
          ]
        }
      ],
      "source": [
        "try:\n",
        "    index = sentence.index(\"Java\")\n",
        "except ValueError:\n",
        "    print(\"Подстрока не найдена\")"
      ]
    },
    {
      "cell_type": "markdown",
      "id": "2a3a32c0",
      "metadata": {
        "id": "2a3a32c0"
      },
      "source": [
        "###### `.count(substring)`"
      ]
    },
    {
      "cell_type": "markdown",
      "id": "a2ae0123",
      "metadata": {
        "id": "a2ae0123"
      },
      "source": [
        "Подсчитывает число вхождений заданной подстроки."
      ]
    },
    {
      "cell_type": "code",
      "execution_count": null,
      "id": "4cf1dd08",
      "metadata": {
        "colab": {
          "base_uri": "https://localhost:8080/"
        },
        "id": "4cf1dd08",
        "outputId": "bf9e7a66-3bc2-4924-c806-11694f3f29f5"
      },
      "outputs": [
        {
          "output_type": "stream",
          "name": "stdout",
          "text": [
            "2\n"
          ]
        }
      ],
      "source": [
        "text = \"Hello, World! Hello, Python!\"\n",
        "print(text.count(\"Hello\"))"
      ]
    },
    {
      "cell_type": "markdown",
      "id": "48a73755",
      "metadata": {
        "id": "48a73755"
      },
      "source": [
        "###### `.replace(old, new)`"
      ]
    },
    {
      "cell_type": "markdown",
      "id": "3628cbe7",
      "metadata": {
        "id": "3628cbe7"
      },
      "source": [
        "Заменяет все вхождения подстроки `old` на подстроку `new`."
      ]
    },
    {
      "cell_type": "code",
      "execution_count": null,
      "id": "05ba3119",
      "metadata": {
        "colab": {
          "base_uri": "https://localhost:8080/"
        },
        "id": "05ba3119",
        "outputId": "9b716a27-eaaa-42fe-8a20-7867b2940759"
      },
      "outputs": [
        {
          "output_type": "stream",
          "name": "stdout",
          "text": [
            "Learning Python is awesome!\n"
          ]
        }
      ],
      "source": [
        "new_sentence = sentence.replace(\"fun\", \"awesome\")\n",
        "print(new_sentence)"
      ]
    },
    {
      "cell_type": "markdown",
      "id": "12c4c22d",
      "metadata": {
        "id": "12c4c22d"
      },
      "source": [
        "##### **4. Проверка содержания**"
      ]
    },
    {
      "cell_type": "markdown",
      "id": "ca5576ac",
      "metadata": {
        "id": "ca5576ac"
      },
      "source": [
        "###### `.startswith(substring)`"
      ]
    },
    {
      "cell_type": "markdown",
      "id": "e073ef58",
      "metadata": {
        "id": "e073ef58"
      },
      "source": [
        "Проверяет, начинается ли строка с указанной подстроки."
      ]
    },
    {
      "cell_type": "code",
      "execution_count": null,
      "id": "e4da6d30",
      "metadata": {
        "colab": {
          "base_uri": "https://localhost:8080/"
        },
        "id": "e4da6d30",
        "outputId": "bf40a72e-be60-4d05-b9f3-a922d7c74d28"
      },
      "outputs": [
        {
          "output_type": "stream",
          "name": "stdout",
          "text": [
            "True\n"
          ]
        }
      ],
      "source": [
        "print(sentence.startswith(\"Learning\"))"
      ]
    },
    {
      "cell_type": "markdown",
      "id": "552c79bc",
      "metadata": {
        "id": "552c79bc"
      },
      "source": [
        "###### `.endswith(substring)`"
      ]
    },
    {
      "cell_type": "markdown",
      "id": "34c6d6ee",
      "metadata": {
        "id": "34c6d6ee"
      },
      "source": [
        "Проверяет, заканчивается ли строка на указанную подстроку."
      ]
    },
    {
      "cell_type": "code",
      "execution_count": null,
      "id": "6bea529c",
      "metadata": {
        "colab": {
          "base_uri": "https://localhost:8080/"
        },
        "id": "6bea529c",
        "outputId": "23b28790-bdc0-4e7f-8df2-7de60a807144"
      },
      "outputs": [
        {
          "output_type": "stream",
          "name": "stdout",
          "text": [
            "True\n"
          ]
        }
      ],
      "source": [
        "print(sentence.endswith(\"fun!\"))"
      ]
    },
    {
      "cell_type": "markdown",
      "id": "5798e6dd",
      "metadata": {
        "id": "5798e6dd"
      },
      "source": [
        "##### **5. Разделение и объединение строк**"
      ]
    },
    {
      "cell_type": "markdown",
      "id": "fdc5877d",
      "metadata": {
        "id": "fdc5877d"
      },
      "source": [
        "###### `.split(separator)`"
      ]
    },
    {
      "cell_type": "markdown",
      "id": "635def48",
      "metadata": {
        "id": "635def48"
      },
      "source": [
        "Разделяет строку на список подстрок по заданному разделителю."
      ]
    },
    {
      "cell_type": "code",
      "source": [
        "words = sentence.split()\n",
        "print(words)"
      ],
      "metadata": {
        "colab": {
          "base_uri": "https://localhost:8080/"
        },
        "id": "18mBregBj2MQ",
        "outputId": "81c74f66-b6bc-45d9-9fc3-a215bbbcc8d8"
      },
      "id": "18mBregBj2MQ",
      "execution_count": null,
      "outputs": [
        {
          "output_type": "stream",
          "name": "stdout",
          "text": [
            "['Learning', 'Python', 'is', 'fun!']\n"
          ]
        }
      ]
    },
    {
      "cell_type": "code",
      "execution_count": null,
      "id": "92bd3916",
      "metadata": {
        "colab": {
          "base_uri": "https://localhost:8080/"
        },
        "id": "92bd3916",
        "outputId": "84efae3f-1fcc-477d-f5a8-8cb254b4e858"
      },
      "outputs": [
        {
          "output_type": "stream",
          "name": "stdout",
          "text": [
            "['125.25', '25.7', '74.1']\n"
          ]
        }
      ],
      "source": [
        "# Разделение по другому символу\n",
        "coords = \"125.25;25.7;74.1\"\n",
        "coord_list = coords.split(';')\n",
        "print(coord_list)"
      ]
    },
    {
      "cell_type": "markdown",
      "id": "687b30f4",
      "metadata": {
        "id": "687b30f4"
      },
      "source": [
        "###### `.join(iterable)`"
      ]
    },
    {
      "cell_type": "markdown",
      "id": "71e3df5d",
      "metadata": {
        "id": "71e3df5d"
      },
      "source": [
        "Объединяет элементы итерируемого объекта в строку, используя текущую строку как разделитель."
      ]
    },
    {
      "cell_type": "code",
      "source": [
        "words"
      ],
      "metadata": {
        "colab": {
          "base_uri": "https://localhost:8080/"
        },
        "id": "8wO3S6B_0LYe",
        "outputId": "3aea718c-5311-4516-d650-6352ac8753a5"
      },
      "id": "8wO3S6B_0LYe",
      "execution_count": null,
      "outputs": [
        {
          "output_type": "execute_result",
          "data": {
            "text/plain": [
              "['Learning', 'Python', 'is', 'fun!']"
            ]
          },
          "metadata": {},
          "execution_count": 117
        }
      ]
    },
    {
      "cell_type": "code",
      "source": [
        "hyphenated = \" \".join(words)\n",
        "print(hyphenated)"
      ],
      "metadata": {
        "colab": {
          "base_uri": "https://localhost:8080/"
        },
        "id": "NcaOrpBOj7LS",
        "outputId": "916cd481-bc96-4b69-82e5-886cb2bcc7f8"
      },
      "id": "NcaOrpBOj7LS",
      "execution_count": null,
      "outputs": [
        {
          "output_type": "stream",
          "name": "stdout",
          "text": [
            "Learning Python is fun!\n"
          ]
        }
      ]
    },
    {
      "cell_type": "code",
      "execution_count": null,
      "id": "12286f46",
      "metadata": {
        "colab": {
          "base_uri": "https://localhost:8080/"
        },
        "id": "12286f46",
        "outputId": "08583ef9-5e7e-4973-8de6-43ceece87907"
      },
      "outputs": [
        {
          "output_type": "stream",
          "name": "stdout",
          "text": [
            "Координаты: 125.25,25.7,74.1\n"
          ]
        }
      ],
      "source": [
        "# Объединение координат через запятую\n",
        "new_coords = \",\".join(coord_list)\n",
        "print(\"Координаты:\", new_coords)"
      ]
    },
    {
      "cell_type": "markdown",
      "id": "72afea4c",
      "metadata": {
        "id": "72afea4c"
      },
      "source": [
        "##### 6. Проверка типа символов"
      ]
    },
    {
      "cell_type": "markdown",
      "id": "d0895f5d",
      "metadata": {
        "id": "d0895f5d"
      },
      "source": [
        "###### `.isalnum()`"
      ]
    },
    {
      "cell_type": "markdown",
      "id": "b502c1a7",
      "metadata": {
        "id": "b502c1a7"
      },
      "source": [
        "Возвращает `True`, если строка состоит из буквенно-цифровых символов."
      ]
    },
    {
      "cell_type": "code",
      "execution_count": null,
      "id": "998e482d",
      "metadata": {
        "colab": {
          "base_uri": "https://localhost:8080/"
        },
        "id": "998e482d",
        "outputId": "d5fbc69c-c32a-48ea-9672-8e942f34df59"
      },
      "outputs": [
        {
          "output_type": "stream",
          "name": "stdout",
          "text": [
            "True\n"
          ]
        }
      ],
      "source": [
        "code = \"ABC123abc\"\n",
        "print(code.isalnum())"
      ]
    },
    {
      "cell_type": "markdown",
      "id": "aa789b86",
      "metadata": {
        "id": "aa789b86"
      },
      "source": [
        "###### `.isalpha()`"
      ]
    },
    {
      "cell_type": "markdown",
      "id": "c925642e",
      "metadata": {
        "id": "c925642e"
      },
      "source": [
        "Возвращает `True`, если строка состоит только из букв."
      ]
    },
    {
      "cell_type": "code",
      "execution_count": null,
      "id": "37c3d492",
      "metadata": {
        "colab": {
          "base_uri": "https://localhost:8080/"
        },
        "id": "37c3d492",
        "outputId": "22e6b8c3-2875-47d7-dbc3-c8db27a501eb"
      },
      "outputs": [
        {
          "output_type": "stream",
          "name": "stdout",
          "text": [
            "True\n"
          ]
        }
      ],
      "source": [
        "name = \"Alice\"\n",
        "print(name.isalpha())"
      ]
    },
    {
      "cell_type": "markdown",
      "id": "859e22e4",
      "metadata": {
        "id": "859e22e4"
      },
      "source": [
        "###### `.isdigit()`"
      ]
    },
    {
      "cell_type": "markdown",
      "id": "0680afd7",
      "metadata": {
        "id": "0680afd7"
      },
      "source": [
        "Возвращает `True`, если строка состоит только из цифр."
      ]
    },
    {
      "cell_type": "code",
      "execution_count": null,
      "id": "0d57a640",
      "metadata": {
        "colab": {
          "base_uri": "https://localhost:8080/"
        },
        "id": "0d57a640",
        "outputId": "16d6ed83-0c4c-4a11-a561-609730bb8cd5"
      },
      "outputs": [
        {
          "output_type": "stream",
          "name": "stdout",
          "text": [
            "False\n"
          ]
        }
      ],
      "source": [
        "number = \"12345\"\n",
        "print(number.isdigit())"
      ]
    },
    {
      "cell_type": "markdown",
      "id": "8aba5dd9",
      "metadata": {
        "id": "8aba5dd9"
      },
      "source": [
        "###### `.isspace()`"
      ]
    },
    {
      "cell_type": "markdown",
      "id": "3481a4ab",
      "metadata": {
        "id": "3481a4ab"
      },
      "source": [
        "Проверяет, состоит ли строка только из пробельных символов."
      ]
    },
    {
      "cell_type": "code",
      "execution_count": null,
      "id": "e5a325ae",
      "metadata": {
        "colab": {
          "base_uri": "https://localhost:8080/"
        },
        "id": "e5a325ae",
        "outputId": "e783ba01-4512-4109-fd47-83bd3679ad2a"
      },
      "outputs": [
        {
          "output_type": "stream",
          "name": "stdout",
          "text": [
            "True\n"
          ]
        }
      ],
      "source": [
        "spaces = \"   \"\n",
        "print(spaces.isspace())"
      ]
    },
    {
      "cell_type": "markdown",
      "id": "98c43235",
      "metadata": {
        "id": "98c43235"
      },
      "source": [
        "###### `.islower()` и `.isupper()`"
      ]
    },
    {
      "cell_type": "markdown",
      "id": "daac9ed1",
      "metadata": {
        "id": "daac9ed1"
      },
      "source": [
        "Проверяют регистр символов."
      ]
    },
    {
      "cell_type": "code",
      "execution_count": null,
      "id": "68f17c27",
      "metadata": {
        "colab": {
          "base_uri": "https://localhost:8080/"
        },
        "id": "68f17c27",
        "outputId": "98cc5bec-639d-43ad-bc2d-42c6894e9900"
      },
      "outputs": [
        {
          "output_type": "stream",
          "name": "stdout",
          "text": [
            "True\n",
            "True\n"
          ]
        }
      ],
      "source": [
        "print(\"hello\".islower())\n",
        "print(\"HELLO\".isupper())"
      ]
    },
    {
      "cell_type": "markdown",
      "id": "47b3860e",
      "metadata": {
        "id": "47b3860e"
      },
      "source": [
        "##### **7. Длина строки**"
      ]
    },
    {
      "cell_type": "markdown",
      "id": "53a52b99",
      "metadata": {
        "id": "53a52b99"
      },
      "source": [
        "###### `len(string)`"
      ]
    },
    {
      "cell_type": "markdown",
      "id": "1074446d",
      "metadata": {
        "id": "1074446d"
      },
      "source": [
        "Функция `len()` возвращает количество символов в строке."
      ]
    },
    {
      "cell_type": "code",
      "execution_count": null,
      "id": "27faee02",
      "metadata": {
        "colab": {
          "base_uri": "https://localhost:8080/"
        },
        "id": "27faee02",
        "outputId": "8c874286-45f3-480f-bbe6-cd5b6b856df7"
      },
      "outputs": [
        {
          "output_type": "stream",
          "name": "stdout",
          "text": [
            "23\n"
          ]
        }
      ],
      "source": [
        "print(len(sentence))"
      ]
    },
    {
      "cell_type": "markdown",
      "id": "4edc935d",
      "metadata": {
        "id": "4edc935d"
      },
      "source": [
        "##### **8. Форматирование строк**"
      ]
    },
    {
      "cell_type": "markdown",
      "id": "927d6a31",
      "metadata": {
        "id": "927d6a31"
      },
      "source": [
        "###### F-строки (форматированные строковые литералы)"
      ]
    },
    {
      "cell_type": "markdown",
      "id": "215b5fe2",
      "metadata": {
        "id": "215b5fe2"
      },
      "source": [
        "С версии Python 3.6 можно использовать выражения внутри строк с префиксом `f`."
      ]
    },
    {
      "cell_type": "code",
      "execution_count": null,
      "id": "5b91d4cd",
      "metadata": {
        "colab": {
          "base_uri": "https://localhost:8080/"
        },
        "id": "5b91d4cd",
        "outputId": "2aa6f33c-10c3-4bf1-e724-ac14fe227929"
      },
      "outputs": [
        {
          "output_type": "stream",
          "name": "stdout",
          "text": [
            "Меня зовут Иван и мне 30 лет.\n"
          ]
        }
      ],
      "source": [
        "name = 'Иван'\n",
        "age = 30\n",
        "\n",
        "info = f\"Меня зовут {name} и мне {age} лет.\"\n",
        "print(info)"
      ]
    },
    {
      "cell_type": "markdown",
      "id": "020ed2e2",
      "metadata": {
        "id": "020ed2e2"
      },
      "source": [
        "---"
      ]
    },
    {
      "cell_type": "markdown",
      "id": "e108ef6f",
      "metadata": {
        "id": "e108ef6f"
      },
      "source": [
        "#### **Практические задания**"
      ]
    },
    {
      "cell_type": "markdown",
      "id": "e62da1e7",
      "metadata": {
        "id": "e62da1e7"
      },
      "source": [
        "##### Задание 1: Переворот строки"
      ]
    },
    {
      "cell_type": "markdown",
      "id": "bb345abc",
      "metadata": {
        "id": "bb345abc"
      },
      "source": [
        "**Задача:** Напишите программу, которая запрашивает у пользователя строку и выводит ее в обратном порядке."
      ]
    },
    {
      "cell_type": "markdown",
      "source": [
        "##### **Решение:**"
      ],
      "metadata": {
        "id": "KCkh434ic9Hd"
      },
      "id": "KCkh434ic9Hd"
    },
    {
      "cell_type": "code",
      "execution_count": null,
      "id": "b35eda9f",
      "metadata": {
        "id": "b35eda9f"
      },
      "outputs": [],
      "source": [
        "text = input(\"Введите строку: \")\n",
        "reversed_text = text[::-1]\n",
        "print(\"Перевернутая строка:\", reversed_text)"
      ]
    },
    {
      "cell_type": "markdown",
      "id": "391f6202",
      "metadata": {
        "id": "391f6202"
      },
      "source": [
        "##### Задание 2: Подсчет гласных букв"
      ]
    },
    {
      "cell_type": "markdown",
      "id": "261d5de3",
      "metadata": {
        "id": "261d5de3"
      },
      "source": [
        "**Задача:** Напишите функцию `count_vowels(text)`, которая принимает строку и возвращает количество гласных букв в ней."
      ]
    },
    {
      "cell_type": "markdown",
      "source": [
        "##### **Решение:**"
      ],
      "metadata": {
        "id": "XcFnHbbxdAFL"
      },
      "id": "XcFnHbbxdAFL"
    },
    {
      "cell_type": "code",
      "execution_count": null,
      "id": "4ec053f1",
      "metadata": {
        "id": "4ec053f1"
      },
      "outputs": [],
      "source": [
        "def count_vowels(text):\n",
        "    vowels = \"аеёиоуыэюяAEЁИОУЫЭЮЯaeiouAEIOU\"\n",
        "    count = 0\n",
        "    for char in text:\n",
        "        if char in vowels:\n",
        "            count += 1\n",
        "    return count\n",
        "\n",
        "input_text = input(\"Введите строку: \")\n",
        "vowel_count = count_vowels(input_text)\n",
        "print(\"Количество гласных букв:\", vowel_count)"
      ]
    },
    {
      "cell_type": "markdown",
      "id": "46d37d73",
      "metadata": {
        "id": "46d37d73"
      },
      "source": [
        "##### Задание 3: Проверка палиндрома"
      ]
    },
    {
      "cell_type": "markdown",
      "id": "c60d4e86",
      "metadata": {
        "id": "c60d4e86"
      },
      "source": [
        "**Задача:** Напишите программу, которая проверяет, является ли введенная строка палиндромом (читается одинаково слева направо и справа налево)."
      ]
    },
    {
      "cell_type": "markdown",
      "source": [
        "##### **Решение:**"
      ],
      "metadata": {
        "id": "cDnEsZx7dPXs"
      },
      "id": "cDnEsZx7dPXs"
    },
    {
      "cell_type": "code",
      "execution_count": null,
      "id": "9d83ce42",
      "metadata": {
        "id": "9d83ce42"
      },
      "outputs": [],
      "source": [
        "def is_palindrome(text):\n",
        "    text = text.replace(\" \", \"\").lower()\n",
        "    return text == text[::-1]\n",
        "\n",
        "input_text = input(\"Введите строку: \")\n",
        "if is_palindrome(input_text):\n",
        "    print(\"Это палиндром.\")\n",
        "else:\n",
        "    print(\"Это не палиндром.\")"
      ]
    },
    {
      "cell_type": "markdown",
      "id": "f09f9178",
      "metadata": {
        "id": "f09f9178"
      },
      "source": [
        "##### Задание 4: Уникальные символы"
      ]
    },
    {
      "cell_type": "markdown",
      "id": "215bab35",
      "metadata": {
        "id": "215bab35"
      },
      "source": [
        "**Задача:** Напишите программу, которая выводит количество уникальных символов в строке."
      ]
    },
    {
      "cell_type": "markdown",
      "source": [
        "##### **Решение:**"
      ],
      "metadata": {
        "id": "AMRjUeQqdVXd"
      },
      "id": "AMRjUeQqdVXd"
    },
    {
      "cell_type": "code",
      "execution_count": null,
      "id": "b74ad7b1",
      "metadata": {
        "id": "b74ad7b1"
      },
      "outputs": [],
      "source": [
        "text = input(\"Введите строку: \")\n",
        "unique_chars = set(text)\n",
        "print(\"Количество уникальных символов:\", len(unique_chars))"
      ]
    },
    {
      "cell_type": "markdown",
      "id": "131ac8a1",
      "metadata": {
        "id": "131ac8a1"
      },
      "source": [
        "### **Тип данных Bool  и операторы сравнения в Python**"
      ]
    },
    {
      "cell_type": "markdown",
      "id": "005bb0d6",
      "metadata": {
        "id": "005bb0d6"
      },
      "source": [
        "#### Что такое логический тип `bool`?"
      ]
    },
    {
      "cell_type": "markdown",
      "id": "4882e3f1",
      "metadata": {
        "id": "4882e3f1"
      },
      "source": [
        "В Python логический тип **`bool`** представляет два значения: **`True`** (истина) и **`False`** (ложь). Эти значения используются для проверки условий и управления потоком выполнения программы."
      ]
    },
    {
      "cell_type": "markdown",
      "id": "8c213245",
      "metadata": {
        "id": "8c213245"
      },
      "source": [
        "##### Пример:"
      ]
    },
    {
      "cell_type": "code",
      "execution_count": null,
      "id": "27b482f8",
      "metadata": {
        "colab": {
          "base_uri": "https://localhost:8080/"
        },
        "id": "27b482f8",
        "outputId": "abe31cb8-77ac-46bd-bcb2-1a5493dc82bb"
      },
      "outputs": [
        {
          "output_type": "stream",
          "name": "stdout",
          "text": [
            "<class 'bool'>\n"
          ]
        }
      ],
      "source": [
        "is_sunny = True\n",
        "has_umbrella = False\n",
        "print(type(is_sunny))  # Вывод: <class 'bool'>"
      ]
    },
    {
      "cell_type": "markdown",
      "id": "1ec8c16d",
      "metadata": {
        "id": "1ec8c16d"
      },
      "source": [
        "##### Связь bool с int:"
      ]
    },
    {
      "cell_type": "markdown",
      "id": "fb5d20d4",
      "metadata": {
        "id": "fb5d20d4"
      },
      "source": [
        "В Python существует связь между типами `bool` и `int`:\n",
        "- `True` соответствует значению 1\n",
        "- `False` соответствует значению 0"
      ]
    },
    {
      "cell_type": "code",
      "execution_count": null,
      "id": "686821d1",
      "metadata": {
        "colab": {
          "base_uri": "https://localhost:8080/"
        },
        "id": "686821d1",
        "outputId": "ade9b390-894d-4ecc-cdea-7a9099faa6ca"
      },
      "outputs": [
        {
          "output_type": "stream",
          "name": "stdout",
          "text": [
            "1\n",
            "0\n",
            "2\n",
            "1\n",
            "0\n"
          ]
        }
      ],
      "source": [
        "print(int(True))   # Вывод: 1\n",
        "print(int(False))  # Вывод: 0\n",
        "\n",
        "# Можно выполнять арифметические операции\n",
        "print(True + True)   # Вывод: 2\n",
        "print(True + False)  # Вывод: 1\n",
        "print(False + False) # Вывод: 0"
      ]
    },
    {
      "cell_type": "markdown",
      "id": "94f2bc59",
      "metadata": {
        "id": "94f2bc59"
      },
      "source": [
        "#### Операторы сравнения"
      ]
    },
    {
      "cell_type": "markdown",
      "id": "86b027a7",
      "metadata": {
        "id": "86b027a7"
      },
      "source": [
        "**Операторы сравнения** используются для сравнения значений и возвращают логический результат **`True`** или **`False`**."
      ]
    },
    {
      "cell_type": "markdown",
      "id": "44000a52",
      "metadata": {
        "id": "44000a52"
      },
      "source": [
        "##### Основные операторы сравнения:"
      ]
    },
    {
      "cell_type": "markdown",
      "id": "f1b5a592",
      "metadata": {
        "id": "f1b5a592"
      },
      "source": [
        "- **`==`**: равно\n",
        "- **`!=`**: не равно\n",
        "- **`>`**: больше\n",
        "- **`<`**: меньше\n",
        "- **`>=`**: больше или равно\n",
        "- **`<=`**: меньше или равно"
      ]
    },
    {
      "cell_type": "markdown",
      "id": "8c9f7d67",
      "metadata": {
        "id": "8c9f7d67"
      },
      "source": [
        "#### Примеры использования операторов сравнения:"
      ]
    },
    {
      "cell_type": "code",
      "execution_count": null,
      "id": "b7c4f850",
      "metadata": {
        "colab": {
          "base_uri": "https://localhost:8080/"
        },
        "id": "b7c4f850",
        "outputId": "49a81b84-c380-4d13-c4a5-6270ac183c86"
      },
      "outputs": [
        {
          "output_type": "stream",
          "name": "stdout",
          "text": [
            "False\n",
            "True\n",
            "False\n",
            "True\n",
            "True\n",
            "True\n",
            "False <class 'bool'>\n"
          ]
        }
      ],
      "source": [
        "a = 5\n",
        "b = 10\n",
        "\n",
        "print(a == b)   # Вывод: False\n",
        "print(a != b)   # Вывод: True\n",
        "print(a > b)    # Вывод: False\n",
        "print(a < b)    # Вывод: True\n",
        "print(a >= 5)   # Вывод: True\n",
        "print(b <= 20)  # Вывод: True\n",
        "\n",
        "# Результат сравнения можно сохранить в переменную\n",
        "result = (2 == 3)\n",
        "print(result, type(result))  # Вывод: False <class 'bool'>"
      ]
    },
    {
      "cell_type": "markdown",
      "id": "df411796",
      "metadata": {
        "id": "df411796"
      },
      "source": [
        "**Важно:** Не путайте оператор присваивания **`=`** и оператор сравнения **`==`**. **`=`** используется для присвоения значения переменной, а **`==`** для сравнения значений."
      ]
    },
    {
      "cell_type": "markdown",
      "id": "442f5a95",
      "metadata": {
        "id": "442f5a95"
      },
      "source": [
        "### **Логические операторы**"
      ]
    },
    {
      "cell_type": "markdown",
      "id": "f9317f0f",
      "metadata": {
        "id": "f9317f0f"
      },
      "source": [
        "**Логические операторы** позволяют комбинировать несколько условий и возвращают **`True`** или **`False`** в зависимости от логики выражения."
      ]
    },
    {
      "cell_type": "markdown",
      "id": "adf1e99d",
      "metadata": {
        "id": "adf1e99d"
      },
      "source": [
        "#### Основные логические операторы:"
      ]
    },
    {
      "cell_type": "markdown",
      "id": "5c5e6985",
      "metadata": {
        "id": "5c5e6985"
      },
      "source": [
        "- **`and`**: логическое **И**\n",
        "  - Возвращает **`True`**, если **оба** условия истинны.\n",
        "- **`or`**: логическое **ИЛИ**\n",
        "  - Возвращает **`True`**, если **хотя бы одно** условие истинно.\n",
        "- **`not`**: логическое **НЕ**\n",
        "  - Инвертирует логическое значение."
      ]
    },
    {
      "cell_type": "code",
      "execution_count": null,
      "id": "53255016",
      "metadata": {
        "id": "53255016"
      },
      "outputs": [],
      "source": [
        "a = 5\n",
        "b = 10\n",
        "c = 20\n",
        "\n",
        "print((a > b) and (a < c))   # Вывод: False\n",
        "print((a > b) or (a < c))    # Вывод: True\n",
        "print(not(a == b))           # Вывод: True\n",
        "\n",
        "# Примеры с bool значениями\n",
        "print(True and False)  # Вывод: False\n",
        "print(True or False)   # Вывод: True\n",
        "print(not False)       # Вывод: True\n",
        "\n",
        "# Более сложные выражения (используйте скобки для порядка выполнения)\n",
        "x = True\n",
        "y = False\n",
        "z = x or (x and not y)\n",
        "print(z)  # Вывод: True"
      ]
    },
    {
      "cell_type": "markdown",
      "id": "247c9273",
      "metadata": {
        "id": "247c9273"
      },
      "source": [
        "---"
      ]
    }
  ],
  "metadata": {
    "colab": {
      "provenance": [],
      "collapsed_sections": [
        "16WQOEAPcd8h",
        "Ww6U7hboclWj",
        "fhvYkmwdctYq",
        "_JQo_6d4cwPZ",
        "KCkh434ic9Hd",
        "XcFnHbbxdAFL",
        "cDnEsZx7dPXs",
        "AMRjUeQqdVXd"
      ],
      "include_colab_link": true
    },
    "language_info": {
      "name": "python"
    },
    "kernelspec": {
      "name": "python3",
      "display_name": "Python 3"
    }
  },
  "nbformat": 4,
  "nbformat_minor": 5
}